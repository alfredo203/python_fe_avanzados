# -*- coding: utf-8 -*-
"""
Created on Wed Sep 25 21:40:30 2024

@author: David
"""
import numpy as np
import pygsheets
import matplotlib.pyplot as plt
import pandas as pd

# Conectar con Google Sheets
gc = pygsheets.authorize(service_file=r"C:/Users/David/Documents/Python Scripts/alert-smoke-436620-f2-4e596e52fcd8.json")
sh = gc.open("BaseActinver")
wks = sh.sheet1
df_act = wks.get_as_df()
df_act = df_act.dropna()
df_act.set_index("Date", inplace=True)
df_act = df_act.sort_index()
df_act = df_act.apply(pd.to_numeric, errors='coerce')

def getdata(stocks): 
    df = df_act[stocks]
    rendimiento = df.pct_change()  
    media_rendimiento = rendimiento.mean()  
    covmatrix = rendimiento.cov()  
    return df, rendimiento, media_rendimiento, covmatrix

# Selección de los tickers (columnas) que quieres usar para la simulación
tickers = ["GOOGL", "META", "AAPL", "TSLA", "BIMBOA.MX"]  

df, rendimiento, media_rendimiento, covmatrix = getdata(tickers)

df = df.dropna()  
df = df.apply(pd.to_numeric, errors='coerce')
  
logReturns = np.log(1 + rendimiento)

# Configuraciones para simulación de portafolios
noDEPortafolios = 5000
weight = np.zeros((noDEPortafolios, len(tickers)))
ReturnEsp = np.zeros(noDEPortafolios)  # Retorno esperado
VolEsp = np.zeros(noDEPortafolios)  # Volatilidad esperada
RadioSharpe = np.zeros(noDEPortafolios)  # Ratio Sharpe

meanlogReturns = logReturns.mean()
Sigma = logReturns.cov()

# Simulación de portafolios
for k in range(noDEPortafolios):
    w = np.array(np.random.random(len(tickers)))  
    w = w / np.sum(w)  
    weight[k, :] = w  

    ReturnEsp[k] = np.sum(meanlogReturns * w)
    VolEsp[k] = np.sqrt(np.dot(w.T, np.dot(Sigma, w)))
    
    RadioSharpe[k] = ReturnEsp[k] / VolEsp[k]

# Encontrar el portafolio con el mayor Ratio Sharpe
maxIndex = RadioSharpe.argmax()
best_weights = weight[maxIndex, :]  

print("Mejores pesos del portafolio:")
for i, ticker in enumerate(tickers):
    print(f"{ticker}: {best_weights[i]*100:.2f}%")

print(f"Retorno esperado del portafolio: {ReturnEsp[maxIndex]:.4f}")
print(f"Volatilidad esperada del portafolio: {VolEsp[maxIndex]:.4f}")
print(f"Ratio Sharpe máximo: {RadioSharpe[maxIndex]:.4f}")

# Grafica frontera eficiente
plt.figure(figsize=(10, 6))
plt.scatter(VolEsp, ReturnEsp, c=RadioSharpe, cmap="viridis", marker='o')
plt.xlabel("Riesgo Esperado (Volatilidad)")
plt.ylabel("Rendimiento Esperado")
plt.colorbar(label="Sharpe Ratio")

# El mejor radio Sharpe
plt.scatter(VolEsp[maxIndex], ReturnEsp[maxIndex], c="red", marker=".", s=200)
plt.show()


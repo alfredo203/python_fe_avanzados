# -*- coding: utf-8 -*-
"""
Created on Wed Sep 25 21:40:30 2024

@author: David
"""
import numpy as np
import pygsheets
import matplotlib.pyplot as plt
import pandas as pd




import yfinance as yf
import pygsheets 
import pandas as pd
import numpy as np

tickers = ["AA","AAL","AAPL","AMM.TO","ABBV","ABNB","ACTINVRB.MX","AC","AFRM",
           "AGNC","ALFAA.MX","ALPEKA.MX","ALSEA.MX","AMAT","AMD","AMX","AMZN",
           "APA","ASURB.MX","ATER","ATOS","AIY.DE","AVGO","AXP","BABA","BAC",
           "BA","BBAJIOO.MX","BIMBOA.MX","BMY","BNGO","CAT","CCL",
           "CEMEXCPO.MX","CHDRAUIB.MX","CLF","COST","CRM","CSCO",
           "CUERVO.MX","CVS","CVX","C","DAL","DIS","DVN","ELEKTRA.MX","ETSY",
           "FANG","FCX","FDX","FEMSAUBD.MX","FIBRAMQ12.MX","FIBRAPL14.MX",
           "FSLR","FUBO","FUBO","FUNO11.MX","F","GAPB.MX","GCARSOA1.MX","GCC",
           "GENTERA.MX","GE","GFINBURO.MX","GFNORTEO.MX","GILD","GMEXICOB.MX",
           "GME","GM","GOLD","GOOGL","GRUMAB.MX","HD","INTC","JNJ","JPM",
           "KIMBERA.MX","KOFUBL.MX","KO","LABB.MX",
          "LASITEB-1.MX","LCID","LIVEPOLC-1.MX","LLY","LUV","LVS","LYFT","MARA",
          "MARA","MA","MCD","MEGACPO.MX","MELIN.MX","META","MFRISCOA-1.MX","MGM",
          "MRK","MRNA","MRO","MSFT","MU","NCLHN.MX","NFLX","NKE","NKLA","NUN.MX",
          "NVAX","NVDA","OMAB.MX","ORBIA.MX","ORCL","OXY1.MX","PARA","PBRN.MX","PE&OLES.MX",
          "PEP","PFE","PG","PINFRA.MX","PINS","PLTR","PYPL","QCOM","Q.MX","RCL",
          "RIOT","RIVN","ROKU","RA.MX","SBUX","SHOP","SITES1A-1.MX","SKLZ",
          "SOFI","SPCE","SQ","TALN.MX","TERRA13.MX","TGT","TLEVISACPO.MX","TMO",
          "TSLA","TSMN.MX","TWLO","TX","T","UAL","UBER","UNH","UPST","VESTA.MX",
          "VOLARA.MX","VZ","V","WALMEX.MX","WFC","WMT","WYNN","XOM","X","ZM"] 

inicio = "2022-03-01"
final = "2024-09-17"

#Crear el data frame y elegir variables
df = yf.download(tickers, start=inicio, end=final) #Esta es la base completa
datos_req = ["Close"] #Aqui pueden poner los datos que quieran usar
df_aj = df[datos_req] #Crea un df con los datos que quieren
df_aj.columns = df_aj.columns.droplevel(0) #elimina la fila Close

rendimiento = df_aj.pct_change()  

media_rendimiento = rendimiento.mean()
    
logReturns = np.log(1 + rendimiento)

# Configuraciones para simulación de portafolios
noDEPortafolios = 5000
weight = np.zeros((noDEPortafolios, 160))
ReturnEsp = np.zeros(noDEPortafolios)  # Retorno esperado
VolEsp = np.zeros(noDEPortafolios)  # Volatilidad esperada
RadioSharpe = np.zeros(noDEPortafolios)  # Ratio Sharpe

meanlogReturns = logReturns.mean()
Sigma = logReturns.cov()

# Simulación de portafolios
for k in range(noDEPortafolios):
    w = np.array(np.random.random(160)  
    w = w / np.sum(w)  
    weight[k, :] = w  

    ReturnEsp[k] = np.sum(meanlogReturns * w)
    VolEsp[k] = np.sqrt(np.dot(w.T, np.dot(Sigma, w)))
    
    RadioSharpe[k] = ReturnEsp[k] / VolEsp[k]

# Encontrar el portafolio con el mayor Ratio Sharpe
maxIndex = RadioSharpe.argmax()
best_weights = weight[maxIndex, :]  

print("Mejores pesos del portafolio:")
for i, ticker in enumerate(tickers):
    print(f"{ticker}: {best_weights[i]*100:.2f}%")

print(f"Retorno esperado del portafolio: {ReturnEsp[maxIndex]:.4f}")
print(f"Volatilidad esperada del portafolio: {VolEsp[maxIndex]:.4f}")
print(f"Ratio Sharpe máximo: {RadioSharpe[maxIndex]:.4f}")

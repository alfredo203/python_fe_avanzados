# -*- coding: utf-8 -*-
"""
Created on Sat Sep  7 22:04:19 2024

@author: David
"""
from statsmodels.tsa.statespace.sarimax import SARIMAX
import pandas as pd
import matplotlib.pyplot as plt
import seaborn as sns
from pandas.tseries.offsets import Day



# Leer el archivo CSV
df = pd.read_csv('C:/Users/David/Documents/GitHub/python_fe_avanzados/data/yahoo_stock_train.csv'
                 , sep=',')

# Convertir la columna 'Date' a formato datetime
df['Date'] = pd.to_datetime(df['Date'], format="%d/%m/%Y", dayfirst=True)

#'Date' como índice
df.set_index('Date', inplace=True)

sns.set()

plt.ylabel('Close')
plt.xlabel('Date')
plt.xticks(rotation=45)

plt.plot(df.index, df['Close'])

plt.show()

## Train y test


train = df[df.index < pd.to_datetime("2019-11-01", format='%Y-%m-%d')]
test = df[df.index >= pd.to_datetime("2019-11-01", format='%Y-%m-%d')]

sns.set()

plt.plot(train.index, train['Close'], color="black", label='Train')

# Graficar los datos de prueba (test)
plt.plot(test.index, test['Close'], color="red", label='Test')

plt.ylabel('Close')
plt.xlabel('Date')

plt.xticks(rotation=45)

plt.title("Train/Test Data")

plt.legend()

plt.show()# Variable dependiente (entrenamiento)

y = train['Close']

# Crear y ajustar el modelo SARIMAX
ARMAmodel = SARIMAX(y, order=(1, 0, 1))
ARMAmodel = ARMAmodel.fit()

y_pred = ARMAmodel.get_forecast(steps=len(test))

y_pred_df = y_pred.conf_int(alpha=0.05)

y_pred_df["Predictions"] = y_pred.predicted_mean

# Asignar el mismo índice del conjunto de prueba a las predicciones
y_pred_df.index = test.index

# Extraer las predicciones finales
y_pred_out = y_pred_df["Predictions"]

plt.plot(train.index, train['Close'], color='blue', label='Training Data')

plt.plot(test.index, test['Close'], color='red', label='Actual Test Data')

plt.plot(y_pred_out.index, y_pred_out, color='green', label='Predictions')


plt.ylabel('Close')
plt.xlabel('Date')
plt.xticks(rotation=45)
plt.title('Training, Test Data and Predictions')


plt.legend()

plt.show()

y = train['Close']

# Crear y ajustar el modelo SARIMAX con órdenes especificadas
SARIMAXmodel = SARIMAX(y, order=(2, 2, 2))
SARIMAXmodel = SARIMAXmodel.fit()

# Generar predicciones para el conjunto de prueba
y_pred = SARIMAXmodel.get_forecast(steps=len(test.index))

# Obtener los intervalos de confianza
y_pred_df = y_pred.conf_int(alpha=0.05)

y_pred_df["Predictions"] = y_pred.predicted_mean

y_pred_df.index = test.index
    
y_pred_out = y_pred_df["Predictions"]

print("Predicciones:\n", y_pred_out.head())  # Imprimir primeras filas de las predicciones
print("Datos reales de prueba:\n", test['Close'].head())  # Imprimir primeras filas de los datos de prueba

plt.plot(train.index, train['Close'], color='blue', label='Training Data')

plt.plot(test.index, test['Close'], color='red', label='Test Data')

plt.plot(y_pred_out.index, y_pred_out, color='green', label='SARIMAX Predictions')

plt.ylabel('Close')
plt.xlabel('Date')
plt.xticks(rotation=45)
plt.title('Training, Test Data SARIMAX Predictions')

plt.legend()

plt.show()

# Datos full
full_data = pd.concat([train, test])

# Cambiar los ordenes del SARIMAX 
SARIMAXmodel_full = SARIMAX(full_data['Close'], order=(2, 2, 2))
SARIMAXmodel_full = SARIMAXmodel_full.fit()

# predicciones para los próximos 15 dias
forecast_steps = 15
y_forecast = SARIMAXmodel_full.get_forecast(steps=forecast_steps)

forecast_df = y_forecast.conf_int(alpha=0.05)

forecast_df["Predictions"] = y_forecast.predicted_mean

last_date = full_data.index[-1]  # Última fecha en el conjunto de datos
future_dates = pd.date_range(last_date + Day(1), periods=forecast_steps, freq='D')
forecast_df.index = future_dates

# predicciones futuras en una variable
future_predictions = forecast_df["Predictions"]


plt.plot(full_data.index, full_data['Close']
         , color='blue', label='Data Total')

plt.plot(future_predictions.index, future_predictions
         , color='green', label='Prediccion a 15 dias')

plt.ylabel('Close')
plt.xlabel('Date')
plt.xticks(rotation=45)
plt.title('Data total y SARIMAX Predicciones 15 dias')

plt.legend()

plt.show()

#ultimos 90 dias 
# Filtrar los últimos 90 días
ultimo_120_dias = full_data[-120:]

# Cambiar los órdenes del SARIMAX usando solo los últimos 90 días
SARIMAXmodel_ult_120 = SARIMAX(ultimo_120_dias['Close'], order=(3, 1, 7))
SARIMAXmodel_ult_120 = SARIMAXmodel_ult_120.fit()

# Predicciones para los próximos 15 días
forecast_steps = 15
y_forecast = SARIMAXmodel_ult_120.get_forecast(steps=forecast_steps)

forecast_df = y_forecast.conf_int(alpha=0.05)
forecast_df["Predictions"] = y_forecast.predicted_mean

# Última fecha en el conjunto de datos de los últimos 90 días
ult_date = ultimo_120_dias.index[-1]  
future_dates = pd.date_range(ult_date + Day(1), periods=forecast_steps, freq='D')
forecast_df.index = future_dates

# Predicciones futuras en una variable
future_predictions_90_dias = forecast_df["Predictions"]

# Graficar los datos de los últimos 90 días y las predicciones
plt.plot(ultimo_120_dias.index, ultimo_120_dias['Close']
         , color='blue', label='Últimos 120 días')
plt.plot(future_predictions.index, future_predictions
         , color='green', label='Predicción a 15 días')

plt.ylabel('Close')
plt.xlabel('Date')
plt.xticks(rotation=45)
plt.title('Últimos 120 días y Predicciones SARIMAX 15 días')

plt.legend()
plt.show()
